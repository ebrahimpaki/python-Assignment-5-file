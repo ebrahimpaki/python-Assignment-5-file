{
 "cells": [
  {
   "cell_type": "markdown",
   "metadata": {},
   "source": [
    "# JAWAN PAKISTAN ASSIGNMENT 2 STUDENT MARKSHEET"
   ]
  },
  {
   "cell_type": "code",
   "execution_count": null,
   "metadata": {},
   "outputs": [
    {
     "name": "stdout",
     "output_type": "stream",
     "text": [
      "SAYLANI JAWAN PAKISTAN ONLINE PROGRAM\n",
      "Enter Roll Number: 4230111273969\n",
      "Enter Your Name:Muhammad IBrahim\n",
      "Enter Your Gender:Male\n",
      "Enter Your Class:XII\n",
      "Enter English Marks75\n"
     ]
    }
   ],
   "source": [
    "print (\"SAYLANI JAWAN PAKISTAN ONLINE PROGRAM\")\n",
    "rollno = int(input(\"Enter Roll Number: \"))\n",
    "name= input(\"Enter Your Name:\")\n",
    "gender=input(\"Enter Your Gender:\")\n",
    "Standard=input(\"Enter Your Class:\")\n",
    "english = int(input(\"Enter English Marks\"))\n",
    "math = int(input(\"Enter Math Marks\"))\n",
    "physic = int(input(\"Enter Physic Marks\"))\n",
    "chemistry=int(input(\"Enter Chemistry Marks\"))\n",
    "urdu=int(input(\"Enter urdu Marks\"))\n",
    "obtained_marks = english + math + physic + chemistry + urdu\n",
    "percentage = obtained_marks/500*100\n",
    "print(percentage)\n",
    "\n",
    "print (\"-------------Student,s Marksheet---------------\")\n",
    "print(\"Your Roll No is:\" +str(rollno))\n",
    "print(\"Your Name is:\" + name)\n",
    "print(\"Your Gender is:\" +gender)\n",
    "print(\"Your Class  is:\" +str(Standard))\n",
    "print(\"Total Marks are: + 500\")\n",
    "print(\"Obtained_marks are\" + str(obtained_marks))\n",
    "print(\"Your Percentage is:\" + str(percentage))\n",
    "\n",
    "if percentage>=80 :\n",
    "    print(\"Grade A1\")\n",
    "    print(\"Remarks: Excellent\")\n",
    "elif percentage>=70 :\n",
    "    print(\"Grade A\")\n",
    "    print(\"Remarks:very Good\")\n",
    "elif percentage>=60 :\n",
    "    print(\"Grade B\")\n",
    "    print(\"Remarks: Good\")\n",
    "elif percentage>=50 :\n",
    "    print(\"Grade C\")\n",
    "    print(\"Remarks: Fair\")\n",
    "elif percentage>=40 :\n",
    "    print(\"Grade D\")\n",
    "    print(\"Remarks: Poor\")\n",
    "elif percentage>=33 :\n",
    "    print(\"Grade E\")\n",
    "    print(\"Remarks: Need Improvement\")\n",
    "elif percent < 0 and percent >= 100:\n",
    "    print(\"you didnot write correct percent\");    \n",
    "else:\n",
    "    print(\"Grade F(Fail)\")\n",
    "    print(\"Remarks:Failure\")\n",
    "    \n",
    "    i = 0\n",
    "    if english < 33:\n",
    "        i = i + 1\n",
    "        subjects_name += \"English\"\n",
    "    if math < 33: \n",
    "        i = i + 1\n",
    "        subjects_name += \"Math\"\n",
    "    if physic < 33:\n",
    "        i = i + 1\n",
    "        subjects_name += \"Physic\"\n",
    "    if chemistry < 33:\n",
    "        i = i + 1\n",
    "        subjects_name += \"Chemistry\"\n",
    "    if urdu < 33:\n",
    "        i = i + 1\n",
    "        subjects_name += \"Urdu\"\n",
    "\n",
    "    print(\"Failed subjects Count: \" + str(i))\n",
    "    print(\"Failed subjects Names:\" + subject_name)"
   ]
  },
  {
   "cell_type": "code",
   "execution_count": null,
   "metadata": {},
   "outputs": [],
   "source": []
  }
 ],
 "metadata": {
  "kernelspec": {
   "display_name": "Python 3",
   "language": "python",
   "name": "python3"
  },
  "language_info": {
   "codemirror_mode": {
    "name": "ipython",
    "version": 3
   },
   "file_extension": ".py",
   "mimetype": "text/x-python",
   "name": "python",
   "nbconvert_exporter": "python",
   "pygments_lexer": "ipython3",
   "version": "3.8.5"
  }
 },
 "nbformat": 4,
 "nbformat_minor": 4
}
