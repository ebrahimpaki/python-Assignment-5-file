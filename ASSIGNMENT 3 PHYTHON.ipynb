{
 "cells": [
  {
   "cell_type": "markdown",
   "metadata": {},
   "source": [
    "# JAWAN PAKISTAN ASSIGNMENT 3"
   ]
  },
  {
   "cell_type": "code",
   "execution_count": 1,
   "metadata": {},
   "outputs": [
    {
     "name": "stdout",
     "output_type": "stream",
     "text": [
      "Twinkle, twinkle, little star,\n",
      "             How I wonder what you are!\n",
      "                Up above the world so high,\n",
      "                    Like a diamond in the sky.\n",
      "                        Twinkle, twinkle, little star,\n",
      "                            How I wonder what you are\n"
     ]
    }
   ],
   "source": [
    "\"\"\"\n",
    "Write a Python program to print the following string in a specific format (see the \n",
    "output). \n",
    "Twinkle, twinkle, little star, \n",
    " \n",
    "How I wonder what you are! \n",
    " \n",
    "Up above the world so high, \n",
    "Like a diamond in the sky. \n",
    " \n",
    "Twinkle, twinkle, little star, \n",
    " \n",
    "How I wonder what you are \"\"\"\n",
    "\n",
    "print(\"\"\"Twinkle, twinkle, little star,\n",
    "             How I wonder what you are!\n",
    "                Up above the world so high,\n",
    "                    Like a diamond in the sky.\n",
    "                        Twinkle, twinkle, little star,\n",
    "                            How I wonder what you are\"\"\")"
   ]
  },
  {
   "cell_type": "code",
   "execution_count": 2,
   "metadata": {},
   "outputs": [
    {
     "name": "stdout",
     "output_type": "stream",
     "text": [
      "Python version\n",
      "3.8.5 (default, Sep  3 2020, 21:29:08) [MSC v.1916 64 bit (AMD64)]\n",
      "Version info.\n",
      "sys.version_info(major=3, minor=8, micro=5, releaselevel='final', serial=0)\n"
     ]
    }
   ],
   "source": [
    "#2. Write a Python program to get the Python version you are using\n",
    "import sys\n",
    "print(\"Python version\")\n",
    "print (sys.version)\n",
    "print(\"Version info.\")\n",
    "print (sys.version_info)"
   ]
  },
  {
   "cell_type": "code",
   "execution_count": 3,
   "metadata": {},
   "outputs": [
    {
     "name": "stdout",
     "output_type": "stream",
     "text": [
      "Current date and time : \n",
      "2021-12-08 11:55:15\n"
     ]
    }
   ],
   "source": [
    "#3. Write a Python program to display the current date and time. \n",
    "import datetime\n",
    "now = datetime.datetime.now()\n",
    "print (\"Current date and time : \")\n",
    "print (now.strftime(\"%Y-%m-%d %H:%M:%S\"))"
   ]
  },
  {
   "cell_type": "code",
   "execution_count": 4,
   "metadata": {},
   "outputs": [
    {
     "name": "stdout",
     "output_type": "stream",
     "text": [
      "Input your First Name : Muhammad\n",
      "Input your Last Name : Ibrahim\n",
      "Hello  Ibrahim Muhammad\n"
     ]
    }
   ],
   "source": [
    "#5. Write a Python program which a#ccepts the user's first and last name and print them in reverse order with a space between them. \n",
    "\n",
    "fname = input(\"Input your First Name : \")\n",
    "lname = input(\"Input your Last Name : \")\n",
    "print (\"Hello  \" + lname + \" \" + fname)"
   ]
  },
  {
   "cell_type": "code",
   "execution_count": 5,
   "metadata": {},
   "outputs": [
    {
     "name": "stdout",
     "output_type": "stream",
     "text": [
      "Type a number: 25\n",
      "Type another number: 40\n",
      "The sum is:  65\n"
     ]
    }
   ],
   "source": [
    "#6. Write a python program which takes two inputs from user and print them addition\n",
    "x = input(\"Type a number: \")\n",
    "y = input(\"Type another number: \")\n",
    "\n",
    "sum = int(x) + int(y)\n",
    "\n",
    "print(\"The sum is: \", sum)"
   ]
  },
  {
   "cell_type": "code",
   "execution_count": 6,
   "metadata": {},
   "outputs": [
    {
     "name": "stdout",
     "output_type": "stream",
     "text": [
      "Input the radius of the circle : 1.1\n",
      "The area of the circle with radius 1.1 is: 3.8013271108436504\n"
     ]
    }
   ],
   "source": [
    "#4. Write a Python program which accepts the radius of a circle from the user and compute the area. \n",
    "from math import pi\n",
    "r = float(input (\"Input the radius of the circle : \"))\n",
    "print (\"The area of the circle with radius \" + str(r) + \" is: \" + str(pi * r**2))"
   ]
  },
  {
   "cell_type": "code",
   "execution_count": 8,
   "metadata": {},
   "outputs": [
    {
     "name": "stdout",
     "output_type": "stream",
     "text": [
      "SAYLANI JAWAN PAKISTAN ONLINE PROGRAM\n",
      "Enter Roll Number: 125468\n",
      "Enter Your Name:Muhammad Ibrahim\n",
      "Enter Your Gender:Male\n",
      "Enter Your Class:XII\n",
      "Enter English Marks65\n",
      "Enter Math Marks85\n",
      "Enter Physic Marks52\n",
      "Enter Chemistry Marks60\n",
      "Enter urdu Marks90\n",
      "70.39999999999999\n",
      "-------------Student,s Marksheet---------------\n",
      "Your Roll No is:125468\n",
      "Your Name is:Muhammad Ibrahim\n",
      "Your Gender is:Male\n",
      "Your Class  is:XII\n",
      "Total Marks are: + 500\n",
      "Obtained_marks are352\n",
      "Your Percentage is:70.39999999999999\n",
      "Grade A\n",
      "Remarks:very Good\n"
     ]
    }
   ],
   "source": [
    "#7. Write a program which takes 5 inputs from user for different subject’s marks, total it and generate mark sheet using grades ? \n",
    "print (\"SAYLANI JAWAN PAKISTAN ONLINE PROGRAM\")\n",
    "rollno = int(input(\"Enter Roll Number: \"))\n",
    "name= input(\"Enter Your Name:\")\n",
    "gender=input(\"Enter Your Gender:\")\n",
    "Standard=input(\"Enter Your Class:\")\n",
    "english = int(input(\"Enter English Marks\"))\n",
    "math = int(input(\"Enter Math Marks\"))\n",
    "physic = int(input(\"Enter Physic Marks\"))\n",
    "chemistry=int(input(\"Enter Chemistry Marks\"))\n",
    "urdu=int(input(\"Enter urdu Marks\"))\n",
    "obtained_marks = english + math + physic + chemistry + urdu\n",
    "percentage = obtained_marks/500*100\n",
    "print(percentage)\n",
    "\n",
    "print (\"-------------Student,s Marksheet---------------\")\n",
    "print(\"Your Roll No is:\" +str(rollno))\n",
    "print(\"Your Name is:\" + name)\n",
    "print(\"Your Gender is:\" +gender)\n",
    "print(\"Your Class  is:\" +str(Standard))\n",
    "print(\"Total Marks are: + 500\")\n",
    "print(\"Obtained_marks are\" + str(obtained_marks))\n",
    "print(\"Your Percentage is:\" + str(percentage))\n",
    "\n",
    "if percentage>=80 :\n",
    "    print(\"Grade A1\")\n",
    "    print(\"Remarks: Excellent\")\n",
    "elif percentage>=70 :\n",
    "    print(\"Grade A\")\n",
    "    print(\"Remarks:very Good\")\n",
    "elif percentage>=60 :\n",
    "    print(\"Grade B\")\n",
    "    print(\"Remarks: Good\")\n",
    "elif percentage>=50 :\n",
    "    print(\"Grade C\")\n",
    "    print(\"Remarks: Fair\")\n",
    "elif percentage>=40 :\n",
    "    print(\"Grade D\")\n",
    "    print(\"Remarks: Poor\")\n",
    "elif percentage>=33 :\n",
    "    print(\"Grade E\")\n",
    "    print(\"Remarks: Need Improvement\")\n",
    "else:\n",
    "    print(\"Grade F(Fail)\")\n",
    "    print(\"Remarks:Failure\")\n",
    "    \n",
    "    i = 0\n",
    "    if english < 33:\n",
    "        i = i + 1\n",
    "        subjects_name += \"English\"\n",
    "    if math < 33: \n",
    "        i = i + 1\n",
    "        subjects_name += \"Math\"\n",
    "    if physic < 33:\n",
    "        i = i + 1\n",
    "        subjects_name += \"Physic\"\n",
    "    if chemistry < 33:\n",
    "        i = i + 1\n",
    "        subjects_name += \"Chemistry\"\n",
    "    if urdu < 33:\n",
    "        i = i + 1\n",
    "        subjects_name += \"Urdu\"\n",
    "\n",
    "    print(\"Failed subjects Count: \" + str(i))\n",
    "    print(\"Failed subjects Names:\" + subject_name)"
   ]
  },
  {
   "cell_type": "code",
   "execution_count": 9,
   "metadata": {},
   "outputs": [
    {
     "name": "stdout",
     "output_type": "stream",
     "text": [
      "Number of even numbers : 4\n",
      "Number of odd numbers : 5\n"
     ]
    }
   ],
   "source": [
    "#8. Write a program which take input from user and identify that the given number is even or odd?\n",
    "numbers = (1, 2, 3, 4, 5, 6, 7, 8, 9) # Declaring the tuple\n",
    "count_odd = 0\n",
    "count_even = 0\n",
    "for x in numbers:\n",
    "        if not x % 2:\n",
    "    \t     count_even+=1\n",
    "        else:\n",
    "    \t     count_odd+=1\n",
    "print(\"Number of even numbers :\",count_even)\n",
    "print(\"Number of odd numbers :\",count_odd)"
   ]
  },
  {
   "cell_type": "code",
   "execution_count": 12,
   "metadata": {},
   "outputs": [
    {
     "name": "stdout",
     "output_type": "stream",
     "text": [
      "The length of the list [11, 22, 33, 44, 55, 66] is : 6\n"
     ]
    }
   ],
   "source": [
    "#9. Write a program which print the length of the list?\n",
    "#given list\n",
    "l=[11,22,33,44,55,66]\n",
    " \n",
    "#printing the length using len()\n",
    "print(\"The length of the list\",l, \"is :\",len(l))\n"
   ]
  },
  {
   "cell_type": "code",
   "execution_count": 13,
   "metadata": {},
   "outputs": [
    {
     "name": "stdout",
     "output_type": "stream",
     "text": [
      "-5\n"
     ]
    }
   ],
   "source": [
    "#10.Write a Python program to sum all the numeric items in a list?\n",
    "def sum_list(items):\n",
    "    sum_numbers = 0\n",
    "    for x in items:\n",
    "        sum_numbers += x\n",
    "    return sum_numbers\n",
    "print(sum_list([1,2,-8]))"
   ]
  },
  {
   "cell_type": "code",
   "execution_count": 14,
   "metadata": {},
   "outputs": [
    {
     "name": "stdout",
     "output_type": "stream",
     "text": [
      "2\n"
     ]
    }
   ],
   "source": [
    "#11.Write a Python program to get the largest number from a numeric list.\n",
    "def max_num_in_list( list ):\n",
    "    max = list[ 0 ]\n",
    "    for a in list:\n",
    "        if a > max:\n",
    "            max = a\n",
    "    return max\n",
    "print(max_num_in_list([1, 2, -8, 0]))"
   ]
  },
  {
   "cell_type": "code",
   "execution_count": 2,
   "metadata": {},
   "outputs": [
    {
     "ename": "IndentationError",
     "evalue": "unexpected indent (<ipython-input-2-264f5a6a66c5>, line 4)",
     "output_type": "error",
     "traceback": [
      "\u001b[1;36m  File \u001b[1;32m\"<ipython-input-2-264f5a6a66c5>\"\u001b[1;36m, line \u001b[1;32m4\u001b[0m\n\u001b[1;33m    Write a program that prints out all the elements of the list that are less than 5.\u001b[0m\n\u001b[1;37m    ^\u001b[0m\n\u001b[1;31mIndentationError\u001b[0m\u001b[1;31m:\u001b[0m unexpected indent\n"
     ]
    }
   ],
   "source": [
    "\"\"\"2. Take a list, say for example this one: \n",
    " a = [1, 1, 2, 3, 5, 8, 13, 21, 34, 55, 89] \n",
    " Write a program that prints out all the elements of the list that are less than 5.\n",
    "\"\"\"\n",
    "print (\"\"\" The question is :-\\n Take a list, say for example this one:\\n\n",
    "  a = [1, 1, 2, 3, 5, 8, 13, 21, 34, 55, 89]\\n\n",
    "and write a program that prints out all the elements of the list that are less than 5.\n",
    "           And i will program accordingly.\\n\"\"\")\n",
    "\n",
    "test_list= [1, 1, 2, 3, 5, 8, 13, 21, 34, 55, 89]\n",
    "for element in test_list:\n",
    "    if(int(element) <5):\n",
    "        print(str(element)+\"\\n\")"
   ]
  },
  {
   "cell_type": "code",
   "execution_count": null,
   "metadata": {},
   "outputs": [],
   "source": []
  }
 ],
 "metadata": {
  "kernelspec": {
   "display_name": "Python 3",
   "language": "python",
   "name": "python3"
  },
  "language_info": {
   "codemirror_mode": {
    "name": "ipython",
    "version": 3
   },
   "file_extension": ".py",
   "mimetype": "text/x-python",
   "name": "python",
   "nbconvert_exporter": "python",
   "pygments_lexer": "ipython3",
   "version": "3.8.5"
  }
 },
 "nbformat": 4,
 "nbformat_minor": 4
}
